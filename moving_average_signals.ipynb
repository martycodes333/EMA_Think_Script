input longEntries = yes;
input shortEntries = no;

input fastMALength = 14;
input slowMALength = 200;
input averageTypeFast = AverageType.Exponential;
input averageTypeSlow = AverageType.Exponential;


input quantity = 500;

plot fastMA = MovingAverage (averageTypeFast, close, fastMALength);
plot slowMA = MovingAverage (averageTypeSlow, close, slowMALength);


#6 EMA x 9 EMA 
# AddLabel



AddOrder(OrderType.Buy_To_Open, (longEntries) and fastMA crosses above slowMA, close, quantity);
AddOrder(OrderType.Sell_To_Close, fastMA crosses below slowMA, close, quantity); 

#AddOrder(OrderType.Sell_To_Open, (shortEntries) and fastMA crosses below slowMA, close, quantity);
#AddOrder(OrderType.Buy_To_Close, fastMA crosses above slowMA, close, quantity); 

#AddOrder(OrderType.BUY_AUTO, no) ;